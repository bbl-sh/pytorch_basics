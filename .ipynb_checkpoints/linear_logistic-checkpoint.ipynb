{
 "cells": [
  {
   "cell_type": "code",
   "execution_count": 1,
   "id": "ce63e56f-f4ad-469f-be4d-de7aa5b32fa1",
   "metadata": {},
   "outputs": [],
   "source": [
    "import torch\n",
    "import torch.nn as nn\n",
    "import torch.optim as optim"
   ]
  },
  {
   "cell_type": "code",
   "execution_count": 30,
   "id": "041063d0-e101-4f09-a8d4-cccbc44890ba",
   "metadata": {},
   "outputs": [],
   "source": [
    "class Linear_regression(nn.Module):\n",
    "    def __init__(self, input_size):\n",
    "        super().__init__()\n",
    "        self.linear = nn.Linear(input_size, 1200)\n",
    "        self.linear1 = nn.Linear(1200, 1)\n",
    "\n",
    "    def forward(self, x):\n",
    "        #x = x.view(-1, 1)\n",
    "        y_pred = self.linear(x)\n",
    "        y_pred = self.linear1(y_pred)\n",
    "        return y_pred"
   ]
  },
  {
   "cell_type": "code",
   "execution_count": 31,
   "id": "20d56305-3431-4344-90d7-43d3ef5530a0",
   "metadata": {},
   "outputs": [
    {
     "name": "stdout",
     "output_type": "stream",
     "text": [
      "loss is 15842.3438\n",
      "loss is 9371582988288.0000\n",
      "loss is inf\n",
      "loss is nan\n",
      "loss is nan\n",
      "loss is nan\n",
      "loss is nan\n",
      "loss is nan\n",
      "loss is nan\n",
      "loss is nan\n"
     ]
    }
   ],
   "source": [
    "x = torch.randint(0, 100, (10, 1), dtype= torch.float32)\n",
    "y = 2 * x + 15\n",
    "\n",
    "input_size = 1\n",
    "model = Linear_regression(input_size)\n",
    "\n",
    "criterion = nn.MSELoss()\n",
    "optimizer = optim.SGD(model.parameters(), lr = 0.01)\n",
    "\n",
    "num_epochs = 10\n",
    "\n",
    "for epoch in range(num_epochs):\n",
    "    pred = model(x)\n",
    "    loss = criterion(pred, y)\n",
    "\n",
    "    optimizer.zero_grad()\n",
    "    loss.backward()\n",
    "    optimizer.step()\n",
    "\n",
    "    print(f'loss is {loss.item():.4f}')\n",
    "\n",
    "    "
   ]
  }
 ],
 "metadata": {
  "kernelspec": {
   "display_name": "Python 3 (ipykernel)",
   "language": "python",
   "name": "python3"
  },
  "language_info": {
   "codemirror_mode": {
    "name": "ipython",
    "version": 3
   },
   "file_extension": ".py",
   "mimetype": "text/x-python",
   "name": "python",
   "nbconvert_exporter": "python",
   "pygments_lexer": "ipython3",
   "version": "3.12.2"
  }
 },
 "nbformat": 4,
 "nbformat_minor": 5
}
