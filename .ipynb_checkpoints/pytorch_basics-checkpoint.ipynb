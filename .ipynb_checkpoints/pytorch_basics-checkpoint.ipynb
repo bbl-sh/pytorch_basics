{
 "cells": [
  {
   "cell_type": "code",
   "execution_count": 15,
   "id": "e5309f6c-40e8-41a0-a0d5-012a9466dd0a",
   "metadata": {},
   "outputs": [],
   "source": [
    "import torch\n",
    "import torch.nn as nn\n",
    "import torch.optim as optim"
   ]
  },
  {
   "cell_type": "code",
   "execution_count": 25,
   "id": "894fe939-b4b2-4e86-a5d6-770cca34478d",
   "metadata": {},
   "outputs": [],
   "source": [
    "# tensors \n",
    "\n",
    "tensor_from_list = torch.tensor([1, 2, 3])\n",
    "\n",
    "import numpy as np\n",
    "np_array = np.array([[1, 2], [3, 4]])\n",
    "tensor_from_np = torch.from_numpy(np_array)"
   ]
  },
  {
   "cell_type": "code",
   "execution_count": 26,
   "id": "bb6cb458-bad6-409f-89bc-7d6f3de40509",
   "metadata": {},
   "outputs": [
    {
     "name": "stdout",
     "output_type": "stream",
     "text": [
      "tensor([[19, 22],\n",
      "        [43, 50]])\n"
     ]
    }
   ],
   "source": [
    "x = torch.tensor([1, 2, 3])\n",
    "y = torch.tensor([4, 5, 6])\n",
    "z = x + y\n",
    "a = torch.tensor([[1, 2], [3, 4]])\n",
    "b = torch.tensor([[5, 6], [7, 8]])\n",
    "c = torch.matmul(a, b) "
   ]
  },
  {
   "cell_type": "code",
   "execution_count": 27,
   "id": "21c7f51b-1126-46fe-8ec8-99d5e60fcc16",
   "metadata": {},
   "outputs": [
    {
     "name": "stdout",
     "output_type": "stream",
     "text": [
      "tensor(6)\n",
      "tensor([[2, 3],\n",
      "        [5, 6],\n",
      "        [8, 9]])\n",
      "torch.Size([2, 2])\n",
      "torch.float32\n"
     ]
    }
   ],
   "source": [
    "x = torch.tensor([[1, 2, 3], [4, 5, 6], [7, 8, 9]])\n",
    "\n",
    "# Indexing\n",
    "print(x[1, 2])  # 6\n",
    "\n",
    "# Slicing\n",
    "print(x[:, 1:])\n",
    "\n",
    "x = torch.tensor([[1, 2], [3, 4]], dtype=torch.float32)\n",
    "print(x.shape)\n",
    "print(x.dtype)"
   ]
  },
  {
   "cell_type": "code",
   "execution_count": 21,
   "id": "653ea83a-1ecd-4252-bf19-12079ec31997",
   "metadata": {},
   "outputs": [
    {
     "name": "stdout",
     "output_type": "stream",
     "text": [
      "tensor(4.)\n"
     ]
    }
   ],
   "source": [
    "#create tensors\n",
    "\n",
    "x = torch.tensor(2.0, requires_grad = True)\n",
    "\n",
    "y = x ** 2\n",
    "\n",
    "y.backward()\n",
    "\n",
    "print(x.grad)"
   ]
  },
  {
   "cell_type": "code",
   "execution_count": 8,
   "id": "9052de1f-44c5-440d-8a27-9ac3e1407edc",
   "metadata": {},
   "outputs": [
    {
     "name": "stdout",
     "output_type": "stream",
     "text": [
      "tensor(27.)\n",
      "tensor(8.)\n"
     ]
    }
   ],
   "source": [
    "# another example\n",
    "\n",
    "x = torch.tensor(3.0, requires_grad = True)\n",
    "y = torch.tensor(4.0, requires_grad = True)\n",
    "\n",
    "z = x ** 3 + y ** 2\n",
    "\n",
    "z.backward()\n",
    "\n",
    "print(x.grad)\n",
    "print(y.grad)"
   ]
  },
  {
   "cell_type": "code",
   "execution_count": 38,
   "id": "ae4cdea4-095b-4205-a58f-f7a4eca3d5f2",
   "metadata": {},
   "outputs": [],
   "source": [
    "# about models in neural network\n",
    "\n",
    "class Net(nn.Module):\n",
    "    def __init__(self, input_layer, output_class):\n",
    "        super().__init__()\n",
    "        self.linear = nn.Linear(input_layer, output_class)\n",
    "\n",
    "    def forward(self, x):\n",
    "        return self.linear(x)\n",
    "\n",
    "model = Net(input_layer = 1, output_class = 1)\n"
   ]
  },
  {
   "cell_type": "code",
   "execution_count": 39,
   "id": "22ac31b7-8e55-4095-88a9-973133abb2e2",
   "metadata": {},
   "outputs": [
    {
     "name": "stdout",
     "output_type": "stream",
     "text": [
      "loss in the epoch is 6.460176467895508\n",
      "loss in the epoch is 6.214466571807861\n",
      "loss in the epoch is 5.978116512298584\n",
      "loss in the epoch is 5.750769138336182\n",
      "loss in the epoch is 5.532081127166748\n",
      "Test Loss: 5.5111\n"
     ]
    }
   ],
   "source": [
    "import torch\n",
    "import torch.nn as nn\n",
    "import torch.optim as optim\n",
    "\n",
    "\n",
    "X = torch.randn(1000, 1)\n",
    "#X = torch.tensor(X, requires_grad = True)\n",
    "y = 2 * X  # Labels (2*x)\n",
    "\n",
    "\n",
    "train_X, test_X = X[:800], X[800:]\n",
    "train_y, test_y = y[:800], y[800:]\n",
    "\n",
    "loss_fn = nn.MSELoss()\n",
    "optimizer = optim.SGD(model.parameters(), lr = 0.01)\n",
    "\n",
    "num_of_epoch = 5\n",
    "for epoch in range(num_of_epoch):\n",
    "    output = model(train_X)\n",
    "    loss = loss_fn(output, train_y)\n",
    "    optimizer.zero_grad()\n",
    "    loss.backward()\n",
    "    optimizer.step()\n",
    "\n",
    "    print(f'loss in the epoch is {loss.item()}')\n",
    "with torch.no_grad():\n",
    "    test_outputs = model(test_X)\n",
    "    test_loss = loss_fn(test_outputs, test_y)\n",
    "    print(f'Test Loss: {test_loss.item():.4f}')"
   ]
  }
 ],
 "metadata": {
  "kernelspec": {
   "display_name": "Python 3 (ipykernel)",
   "language": "python",
   "name": "python3"
  },
  "language_info": {
   "codemirror_mode": {
    "name": "ipython",
    "version": 3
   },
   "file_extension": ".py",
   "mimetype": "text/x-python",
   "name": "python",
   "nbconvert_exporter": "python",
   "pygments_lexer": "ipython3",
   "version": "3.12.2"
  }
 },
 "nbformat": 4,
 "nbformat_minor": 5
}
