{
 "cells": [
  {
   "cell_type": "code",
   "execution_count": 1,
   "id": "ce63e56f-f4ad-469f-be4d-de7aa5b32fa1",
   "metadata": {},
   "outputs": [],
   "source": [
    "import torch\n",
    "import torch.nn as nn\n",
    "import torch.optim as optim"
   ]
  },
  {
   "cell_type": "code",
   "execution_count": 8,
   "id": "a9e07dde-c2f5-4c8e-b6e1-b8a7339f7803",
   "metadata": {},
   "outputs": [
    {
     "name": "stdout",
     "output_type": "stream",
     "text": [
      "tensor([[397.],\n",
      "        [362.],\n",
      "        [422.],\n",
      "        [ 72.],\n",
      "        [497.],\n",
      "        [282.],\n",
      "        [ 27.],\n",
      "        [427.],\n",
      "        [212.],\n",
      "        [432.]])\n"
     ]
    }
   ],
   "source": [
    "# Generate Dataset for linear regression \n",
    "\n",
    "# torch.randint(min_value, max_value, (num_of_samples, dimension))\n",
    "x = torch.randint(1, 100, (10, 1))\n",
    "x = x.float()\n",
    "\n",
    "# y = mx + c \n",
    "y = 5 * x + 12\n",
    "\n",
    "# why do we need to normalize this data ? \n",
    "x_normalized = (x - x.mean()) / x.std()\n",
    "y_normalized = (y - y.mean()) / y.std()\n",
    "\n",
    "print(y)"
   ]
  },
  {
   "cell_type": "code",
   "execution_count": 12,
   "id": "2643b45b-0676-4f6c-bc20-928f44488b0a",
   "metadata": {},
   "outputs": [],
   "source": [
    "# Define the linear regression model \n",
    "\n",
    "class linear_regression(nn.Module):\n",
    "    def __init__(self):\n",
    "        super().__init__()\n",
    "        self.layers = nn.Linear(1, 1) \n",
    "    def forward(self, x):\n",
    "        return self.layers(x)"
   ]
  },
  {
   "cell_type": "code",
   "execution_count": 4,
   "id": "ceef264a-c720-45af-af56-a93a0d2900fb",
   "metadata": {},
   "outputs": [],
   "source": [
    "# Initilizing the model and also chosing the loss function and optimizerb\n",
    "\n",
    "model = linear_regression()\n",
    "loss_fn = nn.MSELoss()\n",
    "optimizer = optim.SGD(model.parameters(), lr = 0.01)"
   ]
  },
  {
   "cell_type": "code",
   "execution_count": 13,
   "id": "2807dfc1-09bf-4135-af6b-f2a5ddf8f887",
   "metadata": {},
   "outputs": [
    {
     "name": "stdout",
     "output_type": "stream",
     "text": [
      "Epoch is 0 and loss is 0.0099\n",
      "Epoch is 1 and loss is 0.0095\n",
      "Epoch is 2 and loss is 0.0092\n",
      "Epoch is 3 and loss is 0.0088\n",
      "Epoch is 4 and loss is 0.0085\n",
      "Epoch is 5 and loss is 0.0082\n",
      "Epoch is 6 and loss is 0.0079\n",
      "Epoch is 7 and loss is 0.0076\n",
      "Epoch is 8 and loss is 0.0074\n",
      "Epoch is 9 and loss is 0.0071\n",
      "Epoch is 10 and loss is 0.0069\n",
      "Epoch is 11 and loss is 0.0066\n",
      "Epoch is 12 and loss is 0.0064\n",
      "Epoch is 13 and loss is 0.0061\n",
      "Epoch is 14 and loss is 0.0059\n",
      "Epoch is 15 and loss is 0.0057\n",
      "Epoch is 16 and loss is 0.0055\n",
      "Epoch is 17 and loss is 0.0053\n",
      "Epoch is 18 and loss is 0.0051\n",
      "Epoch is 19 and loss is 0.0049\n",
      "Epoch is 20 and loss is 0.0048\n",
      "Epoch is 21 and loss is 0.0046\n",
      "Epoch is 22 and loss is 0.0044\n",
      "Epoch is 23 and loss is 0.0043\n",
      "Epoch is 24 and loss is 0.0041\n",
      "Epoch is 25 and loss is 0.0040\n",
      "Epoch is 26 and loss is 0.0038\n",
      "Epoch is 27 and loss is 0.0037\n",
      "Epoch is 28 and loss is 0.0036\n",
      "Epoch is 29 and loss is 0.0034\n",
      "Epoch is 30 and loss is 0.0033\n",
      "Epoch is 31 and loss is 0.0032\n",
      "Epoch is 32 and loss is 0.0031\n",
      "Epoch is 33 and loss is 0.0030\n",
      "Epoch is 34 and loss is 0.0029\n",
      "Epoch is 35 and loss is 0.0028\n",
      "Epoch is 36 and loss is 0.0027\n",
      "Epoch is 37 and loss is 0.0026\n",
      "Epoch is 38 and loss is 0.0025\n",
      "Epoch is 39 and loss is 0.0024\n",
      "Epoch is 40 and loss is 0.0023\n",
      "Epoch is 41 and loss is 0.0022\n",
      "Epoch is 42 and loss is 0.0021\n",
      "Epoch is 43 and loss is 0.0021\n",
      "Epoch is 44 and loss is 0.0020\n",
      "Epoch is 45 and loss is 0.0019\n",
      "Epoch is 46 and loss is 0.0018\n",
      "Epoch is 47 and loss is 0.0018\n",
      "Epoch is 48 and loss is 0.0017\n",
      "Epoch is 49 and loss is 0.0017\n",
      "Epoch is 50 and loss is 0.0016\n",
      "Epoch is 51 and loss is 0.0015\n",
      "Epoch is 52 and loss is 0.0015\n",
      "Epoch is 53 and loss is 0.0014\n",
      "Epoch is 54 and loss is 0.0014\n",
      "Epoch is 55 and loss is 0.0013\n",
      "Epoch is 56 and loss is 0.0013\n",
      "Epoch is 57 and loss is 0.0012\n",
      "Epoch is 58 and loss is 0.0012\n",
      "Epoch is 59 and loss is 0.0012\n",
      "Epoch is 60 and loss is 0.0011\n",
      "Epoch is 61 and loss is 0.0011\n",
      "Epoch is 62 and loss is 0.0010\n",
      "Epoch is 63 and loss is 0.0010\n",
      "Epoch is 64 and loss is 0.0010\n",
      "Epoch is 65 and loss is 0.0009\n",
      "Epoch is 66 and loss is 0.0009\n",
      "Epoch is 67 and loss is 0.0009\n",
      "Epoch is 68 and loss is 0.0008\n",
      "Epoch is 69 and loss is 0.0008\n",
      "Epoch is 70 and loss is 0.0008\n",
      "Epoch is 71 and loss is 0.0007\n",
      "Epoch is 72 and loss is 0.0007\n",
      "Epoch is 73 and loss is 0.0007\n",
      "Epoch is 74 and loss is 0.0007\n",
      "Epoch is 75 and loss is 0.0006\n",
      "Epoch is 76 and loss is 0.0006\n",
      "Epoch is 77 and loss is 0.0006\n",
      "Epoch is 78 and loss is 0.0006\n",
      "Epoch is 79 and loss is 0.0006\n",
      "Epoch is 80 and loss is 0.0005\n",
      "Epoch is 81 and loss is 0.0005\n",
      "Epoch is 82 and loss is 0.0005\n",
      "Epoch is 83 and loss is 0.0005\n",
      "Epoch is 84 and loss is 0.0005\n",
      "Epoch is 85 and loss is 0.0004\n",
      "Epoch is 86 and loss is 0.0004\n",
      "Epoch is 87 and loss is 0.0004\n",
      "Epoch is 88 and loss is 0.0004\n",
      "Epoch is 89 and loss is 0.0004\n",
      "Epoch is 90 and loss is 0.0004\n",
      "Epoch is 91 and loss is 0.0004\n",
      "Epoch is 92 and loss is 0.0003\n",
      "Epoch is 93 and loss is 0.0003\n",
      "Epoch is 94 and loss is 0.0003\n",
      "Epoch is 95 and loss is 0.0003\n",
      "Epoch is 96 and loss is 0.0003\n",
      "Epoch is 97 and loss is 0.0003\n",
      "Epoch is 98 and loss is 0.0003\n",
      "Epoch is 99 and loss is 0.0003\n"
     ]
    }
   ],
   "source": [
    "# running the training loop \n",
    "\n",
    "num_epochs = 100\n",
    "for epoch in range(num_epochs):\n",
    "\n",
    "    model.train()\n",
    "    outputs = model(x_normalized)\n",
    "    loss = loss_fn(outputs, y_normalized)\n",
    "    \n",
    "    optimizer.zero_grad()\n",
    "    loss.backward()\n",
    "    optimizer.step()\n",
    "\n",
    "    print(f'Epoch is {epoch} and loss is {loss.item():.4f}')\n"
   ]
  },
  {
   "cell_type": "code",
   "execution_count": 10,
   "id": "f3d06ae9-e505-4f53-9976-d37140363f0b",
   "metadata": {},
   "outputs": [
    {
     "name": "stdout",
     "output_type": "stream",
     "text": [
      "Learned Weight: 0.8965\n",
      "Learned Bias: -0.0149\n"
     ]
    }
   ],
   "source": [
    "print(f'Learned Weight: {model.layers.weight.item():.4f}')\n",
    "print(f'Learned Bias: {model.layers.bias.item():.4f}')"
   ]
  }
 ],
 "metadata": {
  "kernelspec": {
   "display_name": "Python 3 (ipykernel)",
   "language": "python",
   "name": "python3"
  },
  "language_info": {
   "codemirror_mode": {
    "name": "ipython",
    "version": 3
   },
   "file_extension": ".py",
   "mimetype": "text/x-python",
   "name": "python",
   "nbconvert_exporter": "python",
   "pygments_lexer": "ipython3",
   "version": "3.12.2"
  }
 },
 "nbformat": 4,
 "nbformat_minor": 5
}
